{
 "cells": [
  {
   "cell_type": "code",
   "execution_count": 4,
   "metadata": {},
   "outputs": [
    {
     "name": "stdout",
     "output_type": "stream",
     "text": [
      "40320\n"
     ]
    }
   ],
   "source": [
    "#1.Write a Python Program to Find the Factorial of a Number?\n",
    "\n",
    "factorialNo = 1\n",
    "factNo = 8\n",
    "\n",
    "for i in range(1,factNo+1):\n",
    "    factorialNo = factorialNo * i \n",
    "\n",
    "print(factorialNo)"
   ]
  },
  {
   "cell_type": "code",
   "execution_count": 8,
   "metadata": {},
   "outputs": [
    {
     "name": "stdout",
     "output_type": "stream",
     "text": [
      "4  =  1  x  4\n",
      "8  =  2  x  4\n",
      "12  =  3  x  4\n",
      "16  =  4  x  4\n",
      "20  =  5  x  4\n",
      "24  =  6  x  4\n",
      "28  =  7  x  4\n",
      "32  =  8  x  4\n",
      "36  =  9  x  4\n",
      "40  =  10  x  4\n"
     ]
    }
   ],
   "source": [
    "#2.Write a Python Program to Display the multiplication Table?\n",
    "\n",
    "tableNO=4\n",
    "\n",
    "for i in range(1,11):\n",
    "    tableValue = i * tableNO\n",
    "    print(tableValue,\" = \",i,\" x \",tableNO)\n",
    "\n"
   ]
  },
  {
   "cell_type": "code",
   "execution_count": 19,
   "metadata": {},
   "outputs": [
    {
     "name": "stdout",
     "output_type": "stream",
     "text": [
      "0\n",
      "0\n",
      "1\n",
      "3\n",
      "6\n",
      "10\n",
      "15\n",
      "21\n",
      "28\n",
      "36\n"
     ]
    }
   ],
   "source": [
    "#3.Write a Python Program to Print the Fibonacci sequence?\n",
    "faboniciNo = 10\n",
    "faboniciValue = 0\n",
    "\n",
    "for i in range(0,faboniciNo):\n",
    "    print(faboniciValue)\n",
    "    faboniciValue = i + faboniciValue\n"
   ]
  },
  {
   "cell_type": "code",
   "execution_count": 15,
   "metadata": {},
   "outputs": [
    {
     "name": "stdout",
     "output_type": "stream",
     "text": [
      "How many terms? 5\n",
      "0\n",
      "1\n",
      "1\n",
      "2\n",
      "3\n"
     ]
    }
   ],
   "source": [
    "# Program to display the Fibonacci sequence up to n-th term\n",
    "\n",
    "nterms = int(input(\"How many terms? \"))\n",
    "\n",
    "# first two terms\n",
    "n1, n2 = 0, 1\n",
    "count = 0\n",
    "\n",
    "\n",
    "while nterms > count  :\n",
    "   print(n1)\n",
    "   nth = n1 + n2\n",
    "   # update values\n",
    "   n1 = n2\n",
    "   n2 = nth\n",
    "   count += 1"
   ]
  },
  {
   "cell_type": "code",
   "execution_count": 31,
   "metadata": {},
   "outputs": [
    {
     "name": "stdout",
     "output_type": "stream",
     "text": [
      "0\n",
      "1\n",
      "1\n",
      "2\n",
      "3\n"
     ]
    }
   ],
   "source": [
    "\n",
    "a,b = 0,1\n",
    "print(a)\n",
    "print(b)\n",
    "\n",
    "valuess = 5\n",
    "for i in range(2,valuess):\n",
    "    c = a+b\n",
    "    a=b\n",
    "    b=c\n",
    "    print(c)\n"
   ]
  },
  {
   "cell_type": "code",
   "execution_count": 55,
   "metadata": {},
   "outputs": [
    {
     "name": "stdout",
     "output_type": "stream",
     "text": [
      "its not a Armstrong no\n"
     ]
    }
   ],
   "source": [
    "# 4.Write a Python Program to Check Armstrong Number?\n",
    "\n",
    "\n",
    "num = 153\n",
    "order = len(str(num))\n",
    "digi= 0\n",
    "sum = 0\n",
    "while num>0:\n",
    "    digit = (num%10)\n",
    "    sum = sum + (digit**order)\n",
    "    num = num//10\n",
    "\n",
    "if sum == num:\n",
    "    print(\"its a Armstrong no\")\n",
    "else:\n",
    "    print(\"its not a Armstrong no\")\n"
   ]
  },
  {
   "cell_type": "code",
   "execution_count": 7,
   "metadata": {},
   "outputs": [
    {
     "name": "stdout",
     "output_type": "stream",
     "text": [
      "66\n"
     ]
    }
   ],
   "source": [
    "# 6.Write a Python Program to Find the Sum of Natural Numbers?\n",
    "# Sum of natural numbers up to num\n",
    "\n",
    "\n",
    "\n",
    "abc  = 11\n",
    "i = 0\n",
    "sum=0\n",
    "while i<=abc:\n",
    "    sum = i + sum\n",
    "    i=i+1\n",
    "print(sum)\n",
    "    "
   ]
  },
  {
   "cell_type": "code",
   "execution_count": null,
   "metadata": {},
   "outputs": [],
   "source": []
  },
  {
   "cell_type": "code",
   "execution_count": null,
   "metadata": {},
   "outputs": [],
   "source": []
  },
  {
   "cell_type": "code",
   "execution_count": null,
   "metadata": {},
   "outputs": [],
   "source": []
  },
  {
   "cell_type": "code",
   "execution_count": null,
   "metadata": {},
   "outputs": [],
   "source": []
  },
  {
   "cell_type": "code",
   "execution_count": null,
   "metadata": {},
   "outputs": [],
   "source": []
  },
  {
   "cell_type": "code",
   "execution_count": null,
   "metadata": {},
   "outputs": [],
   "source": []
  }
 ],
 "metadata": {
  "kernelspec": {
   "display_name": "Python 3",
   "language": "python",
   "name": "python3"
  },
  "language_info": {
   "codemirror_mode": {
    "name": "ipython",
    "version": 3
   },
   "file_extension": ".py",
   "mimetype": "text/x-python",
   "name": "python",
   "nbconvert_exporter": "python",
   "pygments_lexer": "ipython3",
   "version": "3.8.5"
  }
 },
 "nbformat": 4,
 "nbformat_minor": 4
}
