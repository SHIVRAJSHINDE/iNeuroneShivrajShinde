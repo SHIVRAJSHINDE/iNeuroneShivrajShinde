{
 "cells": [
  {
   "cell_type": "code",
   "execution_count": 1,
   "metadata": {},
   "outputs": [],
   "source": [
    "# 1. Add the current date to the text file today.txt as a string.\n",
    "# only with date\n",
    "\n",
    "import datetime\n",
    "  \n",
    "filename = datetime.datetime.now()\n",
    "  \n",
    "def create_file():\n",
    "    with open(filename.strftime(\"%d %B %Y\")+\".txt\", \"w\") as file:\n",
    "        file.write(\"\")\n",
    "  \n",
    "# Driver Code\n",
    "create_file()\n",
    "\n",
    "\n"
   ]
  },
  {
   "cell_type": "code",
   "execution_count": 22,
   "metadata": {},
   "outputs": [],
   "source": [
    "# 1. Add the current date to the text file today.txt as a string.\n",
    "# with date and time\n",
    "import datetime\n",
    "from datetime import datetime\n",
    "\n",
    "current_datetime = datetime.now()\n",
    "\n",
    "\n",
    "with open('today2'+\".txt\", \"w\") as file:\n",
    "    file.write(str(current_datetime))\n"
   ]
  },
  {
   "cell_type": "code",
   "execution_count": 23,
   "metadata": {},
   "outputs": [
    {
     "name": "stdout",
     "output_type": "stream",
     "text": [
      "['2022-08-22 11:09:55.086050']\n"
     ]
    }
   ],
   "source": [
    "#2. Read the text file today.txt into the string today_string\n",
    "\n",
    "with open (\"today2.txt\", \"r\") as myfile:\n",
    "    today_string = myfile.read().splitlines()\n",
    "\n",
    "\n",
    "print(today_string)"
   ]
  },
  {
   "cell_type": "code",
   "execution_count": 40,
   "metadata": {},
   "outputs": [
    {
     "name": "stdout",
     "output_type": "stream",
     "text": [
      "2019-09-18 01:55:19\n",
      "2011-06-08 00:00:00\n"
     ]
    }
   ],
   "source": [
    "# 3. Parse the date from today_string.\n",
    "\n",
    "today_string = '18/09/19 01:55:19'\n",
    "today_string1 = 'June-08-2011'\n",
    "\n",
    "date_time_obj = datetime.strptime(today_string, '%d/%m/%y %H:%M:%S')\n",
    "date_time_obj1 = datetime.strptime(today_string1,'%B-%d-%Y')\n",
    "\n",
    "\n",
    "print(date_time_obj)\n",
    "print(date_time_obj1)"
   ]
  },
  {
   "cell_type": "code",
   "execution_count": 55,
   "metadata": {},
   "outputs": [
    {
     "name": "stdout",
     "output_type": "stream",
     "text": [
      "['.ipynb_checkpoints', '22 August 2022 10 53 28.xlsx', '22 August 2022.txt', '22 August 2022.xlsx', 'Assignments_16.ipynb', 'Assignments_17.ipynb', 'Assignment_19.ipynb', 'Assignment_20.ipynb', 'Assignment_21.ipynb', 'Assingment 9.ipynb', 'Assingment_18', 'books.csv', 'books.db', 'Loops.ipynb', 'Programming_Assingment1.ipynb', 'Programming_Assingment10.ipynb', 'Programming_Assingment11.ipynb', 'Programming_Assingment2.ipynb', 'Programming_Assingment25.ipynb', 'Programming_Assingment3.ipynb', 'Programming_Assingment4.ipynb', 'Programming_Assingment5.ipynb', 'Programming_Assingment6.ipynb', 'Programming_Assingment8.ipynb', 'test.txt', 'test1.txt', 'test2.txt', 'test3.txt', 'today.txt', 'today1', 'today1txt', 'today2.txt', 'tst.ipynb', 'Untitled1.ipynb', 'WhileLoop.ipynb']\n"
     ]
    }
   ],
   "source": [
    "# 4. List the files in your current directory\n",
    "\n",
    "# import OS module\n",
    "import os\n",
    " \n",
    "# Get the list of all files and directories\n",
    "dir_list = os.listdir()\n",
    " \n",
    " \n",
    "# prints all files\n",
    "print(dir_list)\n"
   ]
  },
  {
   "cell_type": "code",
   "execution_count": 62,
   "metadata": {},
   "outputs": [
    {
     "name": "stdout",
     "output_type": "stream",
     "text": [
      "['.ipynb_checkpoints', 'Assignment', 'BigMartSalesPrediction', 'Black Frinday', 'Build Dog Breed Prediction', 'DiabetesePrediction', 'FlightPrediction', 'IPLmatch', 'LaptopPricePrediction', 'PlacementAnalysis', 'Rock vs Mine Prediction', 'Titanic', 'ZomatoData']\n"
     ]
    }
   ],
   "source": [
    "# 5. Create a list of all of the files in your parent directory (minimum five files should be available).\n",
    "import os.path\n",
    "import os\n",
    "parentDict =os.path.dirname('C:/Users/shind/JupiterWorking/iNuron/Assignment')\n",
    "\n",
    "parentDirList = os.listdir(parentDict)\n",
    "\n",
    "print(parentDirList)\n"
   ]
  },
  {
   "cell_type": "code",
   "execution_count": null,
   "metadata": {},
   "outputs": [],
   "source": [
    "# 6. Use multiprocessing to create three separate processes. Make each one wait a random number of seconds \n",
    "# between one and five, print the current time, and then exit.\n"
   ]
  },
  {
   "cell_type": "code",
   "execution_count": 64,
   "metadata": {},
   "outputs": [
    {
     "name": "stdout",
     "output_type": "stream",
     "text": [
      "1984-05-11 00:00:00\n"
     ]
    }
   ],
   "source": [
    "\n",
    "# 7. Create a date object of your day of birth.\n",
    "import datetime\n",
    "x = datetime.datetime(1984,5,11)\n",
    "\n",
    "print(x)"
   ]
  },
  {
   "cell_type": "code",
   "execution_count": 70,
   "metadata": {},
   "outputs": [
    {
     "name": "stdout",
     "output_type": "stream",
     "text": [
      "Monday\n"
     ]
    }
   ],
   "source": [
    "# 8. What day of the week was your day of birth?\n",
    "\n",
    "import datetime\n",
    "import calendar\n",
    "date = '05 11 1984'\n",
    "\n",
    "bornDate = datetime.datetime.strptime(date,'%d %m %Y').weekday()\n",
    "print(calendar.day_name[bornDate])"
   ]
  },
  {
   "cell_type": "code",
   "execution_count": 73,
   "metadata": {},
   "outputs": [
    {
     "name": "stdout",
     "output_type": "stream",
     "text": [
      "2012-03-23\n"
     ]
    }
   ],
   "source": [
    "\n",
    "# 9. When will you be (or when were you) 10,000 days old?\n",
    "import datetime\n",
    "\n",
    "start_date = datetime.datetime(year=1984, month=11, day=5)\n",
    "\n",
    "end_date = start_date + datetime.timedelta(days=10000)\n",
    "\n",
    "print(end_date.date())"
   ]
  },
  {
   "cell_type": "code",
   "execution_count": null,
   "metadata": {},
   "outputs": [],
   "source": []
  }
 ],
 "metadata": {
  "kernelspec": {
   "display_name": "Python 3",
   "language": "python",
   "name": "python3"
  },
  "language_info": {
   "codemirror_mode": {
    "name": "ipython",
    "version": 3
   },
   "file_extension": ".py",
   "mimetype": "text/x-python",
   "name": "python",
   "nbconvert_exporter": "python",
   "pygments_lexer": "ipython3",
   "version": "3.8.5"
  }
 },
 "nbformat": 4,
 "nbformat_minor": 4
}
