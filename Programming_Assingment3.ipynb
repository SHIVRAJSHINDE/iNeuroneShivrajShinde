{
 "cells": [
  {
   "cell_type": "code",
   "execution_count": 6,
   "metadata": {},
   "outputs": [
    {
     "name": "stdout",
     "output_type": "stream",
     "text": [
      "Enter your value: -2\n",
      "Its -Ve Value:  -2\n"
     ]
    }
   ],
   "source": [
    "#1.Write a Python Program to Check if a Number is Positive, Negative or Zero?\n",
    "\n",
    "inputValue = int(input(\"Enter your value: \"))\n",
    "\n",
    "if inputValue<0:\n",
    "    print(\"Its -Ve Value: \",inputValue)\n",
    "elif inputValue==0:\n",
    "    print(\"Its neither -Ve or +Ve Value it is \",inputValue)\n",
    "elif inputValue>0:\n",
    "    print(\"Its +Ve Value: \",inputValue)\n"
   ]
  },
  {
   "cell_type": "code",
   "execution_count": 13,
   "metadata": {},
   "outputs": [
    {
     "name": "stdout",
     "output_type": "stream",
     "text": [
      "Enter your value: 0\n",
      "Its even Number:  0\n"
     ]
    }
   ],
   "source": [
    "#2.Write a Python Program to Check if a Number is Odd or Even?\n",
    "\n",
    "inputValue = int(input(\"Enter your value: \"))\n",
    "\n",
    "if inputValue%2 == 0:\n",
    "    print(\"Its even Number: \",inputValue)\n",
    "elif inputValue%2 != 0:\n",
    "    print(\"Its an Odd Number: \",inputValue)\n",
    "elif inputValue == 0:\n",
    "    print(\"Its a Zero\")\n",
    "\n"
   ]
  },
  {
   "cell_type": "code",
   "execution_count": 15,
   "metadata": {},
   "outputs": [
    {
     "name": "stdout",
     "output_type": "stream",
     "text": [
      "Enter your value: 2014\n",
      "2014 is not a leap year\n"
     ]
    }
   ],
   "source": [
    "#3.Write a Python Program to Check Leap Year?\n",
    "\n",
    "year = int(input(\"Enter your value: \"))\n",
    "\n",
    "if (year % 400 == 0) and (year % 100 == 0):\n",
    "    print(\"{0} is a leap year\".format(year))\n",
    "\n",
    "elif (year % 4 ==0) and (year % 100 != 0):\n",
    "    print(\"{0} is a leap year\".format(year))\n",
    "\n",
    "else:\n",
    "    print(\"{0} is not a leap year\".format(year))"
   ]
  },
  {
   "cell_type": "code",
   "execution_count": 31,
   "metadata": {},
   "outputs": [
    {
     "name": "stdout",
     "output_type": "stream",
     "text": [
      "Enter your value: 11\n",
      "its a prime no\n"
     ]
    }
   ],
   "source": [
    "#4. Write a Python Program to Check Prime Number?\n",
    "\n",
    "inputValue = int(input(\"Enter your value: \"))\n",
    "\n",
    "\n",
    "for i in range(2,inputValue-1):\n",
    "    if inputValue%i==0:\n",
    "        a=\"Not Prime\"\n",
    "        break\n",
    "    elif inputValue%i!=0:\n",
    "        a=\"Prime\"\n",
    "\n",
    "if a==\"Prime\":\n",
    "    print(\"its a prime no\")\n",
    "elif a==\"Not Prime\":\n",
    "    print(\"its not a prime no\")\n"
   ]
  },
  {
   "cell_type": "code",
   "execution_count": null,
   "metadata": {},
   "outputs": [],
   "source": [
    "#5.Write a Python Program to Print all Prime Numbers in an Interval of 1-10000?\n"
   ]
  },
  {
   "cell_type": "code",
   "execution_count": 58,
   "metadata": {},
   "outputs": [
    {
     "name": "stdout",
     "output_type": "stream",
     "text": [
      "[3, 5, 7, 11, 13, 17, 19, 23, 29, 31, 37, 41, 43, 47, 53, 59, 61, 67, 71, 73, 79, 83, 89, 97, 101, 103, 107, 109, 113, 127, 131, 137, 139, 149, 151, 157, 163, 167, 173, 179, 181, 191, 193, 197, 199, 211, 223, 227, 229, 233, 239, 241, 251, 257, 263, 269, 271, 277, 281, 283, 293, 307, 311, 313, 317, 331, 337, 347, 349, 353, 359, 367, 373, 379, 383, 389, 397, 401, 409, 419, 421, 431, 433, 439, 443, 449, 457, 461, 463, 467, 479, 487, 491, 499, 503, 509, 521, 523, 541, 547, 557, 563, 569, 571, 577, 587, 593, 599, 601, 607, 613, 617, 619, 631, 641, 643, 647, 653, 659, 661, 673, 677, 683, 691, 701, 709, 719, 727, 733, 739, 743, 751, 757, 761, 769, 773, 787, 797, 809, 811, 821, 823, 827, 829, 839, 853, 857, 859, 863, 877, 881, 883, 887, 907, 911, 919, 929, 937, 941, 947, 953, 967, 971, 977, 983, 991, 997]\n"
     ]
    }
   ],
   "source": [
    "#4. Write a Python Program to Check Prime Number?\n",
    "\n",
    "inputValue = 1000\n",
    "\n",
    "a = []\n",
    "b = []\n",
    "primeNumber = []\n",
    "for num in range(2,inputValue):\n",
    "    for i in range(2,num):\n",
    "        if num%i==0:\n",
    "            a=\"Not Prime\"\n",
    "            break\n",
    "        elif num%i!=0:\n",
    "            a=\"Prime\"\n",
    "\n",
    "    if a==\"Prime\":\n",
    "        primeNumber.append(num)\n",
    "\n",
    "print(primeNumber)"
   ]
  },
  {
   "cell_type": "code",
   "execution_count": 43,
   "metadata": {},
   "outputs": [
    {
     "name": "stdout",
     "output_type": "stream",
     "text": [
      "Prime numbers between 2 and 100 are:\n",
      "2\n",
      "3\n",
      "5\n",
      "7\n",
      "11\n",
      "13\n",
      "17\n",
      "19\n",
      "23\n",
      "29\n",
      "31\n",
      "37\n",
      "41\n",
      "43\n",
      "47\n",
      "53\n",
      "59\n",
      "61\n",
      "67\n",
      "71\n",
      "73\n",
      "79\n",
      "83\n",
      "89\n",
      "97\n"
     ]
    }
   ],
   "source": [
    "# Python program to display all the prime numbers within an interval\n",
    "\n",
    "lower = 2\n",
    "upper = 100\n",
    "\n",
    "print(\"Prime numbers between\", lower, \"and\", upper, \"are:\")\n",
    "\n",
    "for num in range(lower, upper + 1):\n",
    "   for i in range(2, num):\n",
    "       if (num % i) == 0:\n",
    "           break\n",
    "   else:\n",
    "       print(num)"
   ]
  },
  {
   "cell_type": "code",
   "execution_count": null,
   "metadata": {},
   "outputs": [],
   "source": []
  }
 ],
 "metadata": {
  "kernelspec": {
   "display_name": "Python 3",
   "language": "python",
   "name": "python3"
  },
  "language_info": {
   "codemirror_mode": {
    "name": "ipython",
    "version": 3
   },
   "file_extension": ".py",
   "mimetype": "text/x-python",
   "name": "python",
   "nbconvert_exporter": "python",
   "pygments_lexer": "ipython3",
   "version": "3.8.5"
  }
 },
 "nbformat": 4,
 "nbformat_minor": 4
}
