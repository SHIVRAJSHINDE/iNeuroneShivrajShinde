{
 "cells": [
  {
   "cell_type": "code",
   "execution_count": 40,
   "metadata": {},
   "outputs": [
    {
     "name": "stdout",
     "output_type": "stream",
     "text": [
      "8.0\n",
      "80.0\n",
      "8.0 is not a Disarium Number\n"
     ]
    }
   ],
   "source": [
    "# 1.Write a Python program to check if the given number is a Disarium Number?\n",
    "import math\n",
    "\n",
    "Sum = 0\n",
    "Number = 80\n",
    "temp = Number\n",
    "length = len(str(Number))\n",
    "\n",
    "while Number != 0:\n",
    "    rem = Number % 10\n",
    "    Sum = Sum + math.pow(rem, length)\n",
    "    Number = Number // 10\n",
    "    length = length - 1\n",
    "\n",
    "    \n",
    "print(float(Sum)) \n",
    "print(float(temp)) \n",
    "\n",
    "    \n",
    "if float(Sum) == float(temp):\n",
    "    print(Sum, \"is a Disarium Number\" )\n",
    "else:\n",
    "    print(Sum, \"is not a Disarium Number\" )\n",
    "    \n"
   ]
  },
  {
   "cell_type": "code",
   "execution_count": 48,
   "metadata": {},
   "outputs": [
    {
     "name": "stdout",
     "output_type": "stream",
     "text": [
      "1\n",
      "2\n",
      "3\n",
      "4\n",
      "5\n",
      "6\n",
      "7\n",
      "8\n",
      "9\n",
      "89\n",
      "135\n",
      "175\n"
     ]
    }
   ],
   "source": [
    "# 2.Write a Python program to print all disarium numbers between 1 to 100?\n",
    "\n",
    "import math\n",
    "\n",
    "Number1 = 178\n",
    "temp = Number1\n",
    "length = len(str(Number1))\n",
    "\n",
    "\n",
    "for Number in range(1,Number1):\n",
    "    temp = Number\n",
    "    length = len(str(Number))\n",
    "    Sum = 0\n",
    "    while Number != 0:\n",
    "        rem = Number % 10\n",
    "        Sum = Sum + math.pow(rem, length)\n",
    "        Number = Number // 10\n",
    "        length = length - 1\n",
    "    if Sum == temp:\n",
    "        print(int(Sum))\n"
   ]
  },
  {
   "cell_type": "code",
   "execution_count": 15,
   "metadata": {},
   "outputs": [
    {
     "name": "stdout",
     "output_type": "stream",
     "text": [
      "Input No: 97\n",
      "130\n",
      "10\n",
      "1\n",
      "its a happy No\n"
     ]
    }
   ],
   "source": [
    "# 3.Write a Python program to check if the given number is Happy Number?\n",
    "\n",
    "n = int(input(\"Input No: \"))\n",
    "\n",
    "x=n\n",
    "while x>=10:\n",
    "    sum=0\n",
    "    while x>0:\n",
    "        r=x%10\n",
    "        sum=sum+(r**2)\n",
    "        x=x//10\n",
    "    print(sum)\n",
    "    x=sum\n",
    "    \n",
    "if sum == 1:\n",
    "    print(\"its a happy No\")\n",
    "else:\n",
    "    print(\" not a happy no\")\n"
   ]
  },
  {
   "cell_type": "code",
   "execution_count": 14,
   "metadata": {},
   "outputs": [
    {
     "name": "stdout",
     "output_type": "stream",
     "text": [
      "10  its a happy No\n",
      "13  its a happy No\n",
      "19  its a happy No\n",
      "23  its a happy No\n",
      "28  its a happy No\n",
      "31  its a happy No\n",
      "32  its a happy No\n",
      "44  its a happy No\n",
      "49  its a happy No\n",
      "68  its a happy No\n",
      "70  its a happy No\n",
      "79  its a happy No\n",
      "82  its a happy No\n",
      "86  its a happy No\n",
      "91  its a happy No\n",
      "94  its a happy No\n",
      "97  its a happy No\n"
     ]
    }
   ],
   "source": [
    "# 4.Write a Python program to print all happy numbers between 1 and 100?\n",
    "\n",
    "\n",
    "for x in range(1,100):\n",
    "    i=x\n",
    "    while x>=10:\n",
    "        sum=0\n",
    "        while x>0:\n",
    "            r=x%10\n",
    "            sum=sum+(r**2)\n",
    "            x=x//10\n",
    "        x=sum\n",
    "\n",
    "    if sum == 1:\n",
    "        print(i, \" its a happy No\")\n",
    "\n"
   ]
  },
  {
   "cell_type": "code",
   "execution_count": 22,
   "metadata": {},
   "outputs": [
    {
     "name": "stdout",
     "output_type": "stream",
     "text": [
      "Input No: 11\n",
      "11  is not a Harshad No\n"
     ]
    }
   ],
   "source": [
    "# Write a Python program to determine whether the given number is a Harshad Number?\n",
    "\n",
    "n = int(input(\"Input No: \"))\n",
    "x = n\n",
    "sum = 0\n",
    "while n>0:\n",
    "    res=n%10\n",
    "    sum = sum + res\n",
    "    n=n//10\n",
    "\n",
    "if x%sum==0:\n",
    "    print(x,\"a Harshad No\") \n",
    "else:\n",
    "    print(x,\" is not a Harshad No\") \n",
    "\n"
   ]
  },
  {
   "cell_type": "code",
   "execution_count": 27,
   "metadata": {},
   "outputs": [
    {
     "name": "stdout",
     "output_type": "stream",
     "text": [
      "Input No: 11\n",
      "11 is not a pronic no\n"
     ]
    }
   ],
   "source": [
    "# 6.Write a Python program to print all pronic numbers between 1 and 100?\n",
    "\n",
    "\n",
    "n = int(input(\"Input No: \"))\n",
    "\n",
    "for i in range(1,n):\n",
    "    if i * i+1 == n:\n",
    "        print(n, \"is a pronic no\")\n",
    "        break\n",
    "else:\n",
    "    print(n, \"is not a pronic no\")\n",
    "        \n"
   ]
  },
  {
   "cell_type": "code",
   "execution_count": null,
   "metadata": {},
   "outputs": [],
   "source": []
  },
  {
   "cell_type": "code",
   "execution_count": null,
   "metadata": {},
   "outputs": [],
   "source": []
  },
  {
   "cell_type": "code",
   "execution_count": null,
   "metadata": {},
   "outputs": [],
   "source": []
  },
  {
   "cell_type": "code",
   "execution_count": null,
   "metadata": {},
   "outputs": [],
   "source": []
  },
  {
   "cell_type": "code",
   "execution_count": null,
   "metadata": {},
   "outputs": [],
   "source": []
  }
 ],
 "metadata": {
  "kernelspec": {
   "display_name": "Python 3",
   "language": "python",
   "name": "python3"
  },
  "language_info": {
   "codemirror_mode": {
    "name": "ipython",
    "version": 3
   },
   "file_extension": ".py",
   "mimetype": "text/x-python",
   "name": "python",
   "nbconvert_exporter": "python",
   "pygments_lexer": "ipython3",
   "version": "3.8.5"
  }
 },
 "nbformat": 4,
 "nbformat_minor": 4
}
