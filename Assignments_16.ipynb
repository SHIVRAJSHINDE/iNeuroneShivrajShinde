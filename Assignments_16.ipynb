{
 "cells": [
  {
   "cell_type": "code",
   "execution_count": 65,
   "metadata": {},
   "outputs": [
    {
     "data": {
      "text/plain": [
       "[1997, 1998, 1999, 2000, 2001, 2002]"
      ]
     },
     "execution_count": 65,
     "metadata": {},
     "output_type": "execute_result"
    }
   ],
   "source": [
    "# 1) Create a list called years_list, starting with the year of your birth, and each year thereafter \n",
    "# until the year of your fifth birthday.\n",
    "# Method:-1 \n",
    "years_list = [i for i in range(1997,1997+6)]\n",
    "years_list"
   ]
  },
  {
   "cell_type": "code",
   "execution_count": 67,
   "metadata": {},
   "outputs": [
    {
     "name": "stdout",
     "output_type": "stream",
     "text": [
      "[1989, 1990, 1991, 1992, 1993, 1994]\n"
     ]
    }
   ],
   "source": [
    "# 1) Create a list called years_list, starting with the year of your birth, and each year thereafter \n",
    "# until the year of your fifth birthday.\n",
    "# Method:-2 \n",
    "\n",
    "years1 = []\n",
    "\n",
    "for i in range(1989,1989+6):\n",
    "    years1.append(i)\n",
    "    \n",
    "print(years1)"
   ]
  },
  {
   "cell_type": "code",
   "execution_count": null,
   "metadata": {},
   "outputs": [],
   "source": []
  },
  {
   "cell_type": "code",
   "execution_count": null,
   "metadata": {},
   "outputs": [],
   "source": []
  },
  {
   "cell_type": "code",
   "execution_count": 72,
   "metadata": {},
   "outputs": [
    {
     "name": "stdout",
     "output_type": "stream",
     "text": [
      "on 1991 was your birthday\n"
     ]
    }
   ],
   "source": [
    "# 2) In which year in years_list was your third birthday? Remember, you were 0 years of age for your first year.\n",
    "\n",
    "years1 = [1989, 1990, 1991, 1992, 1993, 1994]\n",
    "\n",
    "for i in range(0,len(years1)):\n",
    "    if years1.index(years1[i]) == 2:\n",
    "        print(\"on\",years1[i],\"was your birthday\")\n",
    "        break\n"
   ]
  },
  {
   "cell_type": "code",
   "execution_count": 71,
   "metadata": {},
   "outputs": [
    {
     "name": "stdout",
     "output_type": "stream",
     "text": [
      "2000\n"
     ]
    }
   ],
   "source": [
    "# 3) In the years list, which year were you the oldest?\n",
    "\n",
    "years1 = [1993, 1994, 2000, 1990, 1991, 1992]\n",
    "\n",
    "yearFirst = 0\n",
    "yearSecond = 0\n",
    "\n",
    "for i in range(0, len(years1) - 1):\n",
    "    yearSecond = years1[i]\n",
    "    if yearFirst < yearSecond:\n",
    "        yearFirst = yearSecond\n",
    "\n",
    "print(yearFirst)\n"
   ]
  },
  {
   "cell_type": "code",
   "execution_count": 17,
   "metadata": {},
   "outputs": [
    {
     "data": {
      "text/plain": [
       "['mozzarella', 'cinderella', 'salmonella']"
      ]
     },
     "execution_count": 17,
     "metadata": {},
     "output_type": "execute_result"
    }
   ],
   "source": [
    "# 4) 4. Make a list called things with these three strings as elements: \"mozzarella\", \"cinderella\", \"salmonella\".\n",
    "\n",
    "things = [\"mozzarella\", \"cinderella\", \"salmonella\"]\n",
    "\n",
    "things"
   ]
  },
  {
   "cell_type": "code",
   "execution_count": 18,
   "metadata": {},
   "outputs": [
    {
     "name": "stdout",
     "output_type": "stream",
     "text": [
      "['MOZZARELLA', 'CINDERELLA', 'SALMONELLA']\n"
     ]
    }
   ],
   "source": [
    "# 5. Capitalize the element in things that refers to a person and then print the list. Did it. change the element in the list?\n",
    "\n",
    "things = [\"mozzarella\", \"cinderella\", \"salmonella\"]\n",
    "\n",
    "thingsWithCapital = []\n",
    "\n",
    "\n",
    "for i in things:\n",
    "    thingsWithCapital.append(i.upper())\n",
    "\n",
    "print(thingsWithCapital)"
   ]
  },
  {
   "cell_type": "code",
   "execution_count": 56,
   "metadata": {},
   "outputs": [
    {
     "data": {
      "text/plain": [
       "['Harpo.', 'Groucho,', 'Chico,']"
      ]
     },
     "execution_count": 56,
     "metadata": {},
     "output_type": "execute_result"
    }
   ],
   "source": [
    "# 6. Make a surprise list with the elements \"Groucho,\" \"Chico,\" and \"Harpo.\"\n",
    "\n",
    "surprise = [\"Harpo.\",\"Groucho,\" ,\"Chico,\"]\n",
    "surprise"
   ]
  },
  {
   "cell_type": "code",
   "execution_count": 62,
   "metadata": {},
   "outputs": [
    {
     "name": "stdout",
     "output_type": "stream",
     "text": [
      "['Chico,', 'Groucho,', 'HARPO.']\n",
      "['HARPO.', 'GROUCHO,', 'CHICO,']\n"
     ]
    }
   ],
   "source": [
    "# 7. Lowercase the last element of the surprise list, reverse it, and then capitalize it.\n",
    "surprise_1 = []\n",
    "surprise_Capital = []\n",
    "\n",
    "for i in range(len(surprise)):\n",
    "    if i==2:\n",
    "        surprise_1.append(surprise[i].upper())\n",
    "    else:\n",
    "        surprise_1.append(surprise[i])\n",
    "    \n",
    "print(surprise_1)\n",
    "\n",
    "surprise_1.reverse()\n",
    "\n",
    "for j in surprise_1:\n",
    "    surprise_Capital.append(j.upper())\n",
    "\n",
    "print(surprise_Capital)\n",
    "\n"
   ]
  },
  {
   "cell_type": "code",
   "execution_count": 64,
   "metadata": {},
   "outputs": [
    {
     "data": {
      "text/plain": [
       "{'dog': 'chien', 'cat': 'chat', 'walrus': 'morse'}"
      ]
     },
     "execution_count": 64,
     "metadata": {},
     "output_type": "execute_result"
    }
   ],
   "source": [
    "e2f = {'dog':'chien','cat':'chat','walrus':'morse'}\n",
    "e2f"
   ]
  },
  {
   "cell_type": "code",
   "execution_count": 82,
   "metadata": {},
   "outputs": [
    {
     "data": {
      "text/plain": [
       "'morse'"
      ]
     },
     "execution_count": 82,
     "metadata": {},
     "output_type": "execute_result"
    }
   ],
   "source": [
    "#9. Write the French word for walrus in your three-word dictionary e2f.\n",
    "\n",
    "e2f['walrus']"
   ]
  },
  {
   "cell_type": "code",
   "execution_count": 81,
   "metadata": {},
   "outputs": [
    {
     "name": "stdout",
     "output_type": "stream",
     "text": [
      "{'chien': 'dog', 'chat': 'cat', 'morse': 'walrus'}\n"
     ]
    }
   ],
   "source": [
    "#10. Make a French-to-English dictionary called f2e from e2f. Use the items method.\n",
    "\n",
    "f2e ={}\n",
    "\n",
    "for i in e2f:\n",
    "    f2e[e2f[i]] = i\n",
    "    \n",
    "\n",
    "print(f2e)"
   ]
  },
  {
   "cell_type": "code",
   "execution_count": 112,
   "metadata": {},
   "outputs": [
    {
     "name": "stdout",
     "output_type": "stream",
     "text": [
      "dog\n"
     ]
    }
   ],
   "source": [
    "# 11. Print the English version of the French word chien using f2e.\n",
    "# method 1 using Loop\n",
    "f2e ={'chien': 'dog', 'chat': 'cat', 'morse': 'walrus'}\n",
    "\n",
    "\n",
    "for i in f2e:\n",
    "    if i == 'chien':\n",
    "        print(f2e[i])\n",
    "\n"
   ]
  },
  {
   "cell_type": "code",
   "execution_count": 113,
   "metadata": {},
   "outputs": [
    {
     "data": {
      "text/plain": [
       "'dog'"
      ]
     },
     "execution_count": 113,
     "metadata": {},
     "output_type": "execute_result"
    }
   ],
   "source": [
    "# method 2\n",
    "f2e['chien']"
   ]
  },
  {
   "cell_type": "code",
   "execution_count": 114,
   "metadata": {},
   "outputs": [
    {
     "data": {
      "text/plain": [
       "dict_keys(['dog', 'cat', 'walrus'])"
      ]
     },
     "execution_count": 114,
     "metadata": {},
     "output_type": "execute_result"
    }
   ],
   "source": [
    "# 12. Make and print a set of English words from the keys in e2f.\n",
    "\n",
    "e2f.keys()\n"
   ]
  },
  {
   "cell_type": "code",
   "execution_count": null,
   "metadata": {},
   "outputs": [],
   "source": [
    "# 13. Make a multilevel dictionary called life. Use these strings for the topmost \n",
    "#keys: 'animals', 'plants', and 'other'. Make the 'animals' key refer to another dictionary with the keys 'cats', 'octopi', \n",
    "#and 'emus'. Make the 'cats' key refer to a list of strings with the values 'Henri', 'Grumpy', and 'Lucy'. \n",
    "#Make all the other keys refer to empty dictionaries."
   ]
  },
  {
   "cell_type": "code",
   "execution_count": 117,
   "metadata": {},
   "outputs": [
    {
     "data": {
      "text/plain": [
       "{'animals': {'cats': ['Henri', 'Grumpy', 'Lucy'], 'octopi': '', 'emus': ''},\n",
       " 'plants': '',\n",
       " 'other': ''}"
      ]
     },
     "execution_count": 117,
     "metadata": {},
     "output_type": "execute_result"
    }
   ],
   "source": [
    "life = {'animals': {'cats': ['Henri','Grumpy','Lucy'], 'octopi':'', 'emus':''} , 'plants':'', 'other':''}\n",
    "\n",
    "life"
   ]
  },
  {
   "cell_type": "code",
   "execution_count": 119,
   "metadata": {},
   "outputs": [
    {
     "name": "stdout",
     "output_type": "stream",
     "text": [
      "animals\n",
      "plants\n",
      "other\n"
     ]
    },
    {
     "data": {
      "text/plain": [
       "dict_keys(['animals', 'plants', 'other'])"
      ]
     },
     "execution_count": 119,
     "metadata": {},
     "output_type": "execute_result"
    }
   ],
   "source": [
    "# 14. Print the top-level keys of life.\n",
    "\n",
    "\n",
    "# Method 01\n",
    "for i in life:\n",
    "    print(i)\n",
    "\n",
    "# Method 02\n",
    "life.keys()\n"
   ]
  },
  {
   "cell_type": "code",
   "execution_count": 126,
   "metadata": {},
   "outputs": [
    {
     "name": "stdout",
     "output_type": "stream",
     "text": [
      "cats\n",
      "octopi\n",
      "emus\n"
     ]
    }
   ],
   "source": [
    "#15. Print the keys for life['animals'].\n",
    "\n",
    "#Method 01\n",
    "life['animals'].keys()\n",
    "\n",
    "#Method 02\n",
    "\n",
    "for i in life['animals'].keys():\n",
    "    print(i)\n"
   ]
  },
  {
   "cell_type": "code",
   "execution_count": 129,
   "metadata": {},
   "outputs": [
    {
     "data": {
      "text/plain": [
       "['Henri', 'Grumpy', 'Lucy']"
      ]
     },
     "execution_count": 129,
     "metadata": {},
     "output_type": "execute_result"
    }
   ],
   "source": [
    "# 16. Print the values for life['animals']['cats']\n",
    "\n",
    "life['animals']['cats']\n",
    "\n"
   ]
  },
  {
   "cell_type": "code",
   "execution_count": null,
   "metadata": {},
   "outputs": [],
   "source": []
  }
 ],
 "metadata": {
  "kernelspec": {
   "display_name": "Python 3",
   "language": "python",
   "name": "python3"
  },
  "language_info": {
   "codemirror_mode": {
    "name": "ipython",
    "version": 3
   },
   "file_extension": ".py",
   "mimetype": "text/x-python",
   "name": "python",
   "nbconvert_exporter": "python",
   "pygments_lexer": "ipython3",
   "version": "3.8.5"
  }
 },
 "nbformat": 4,
 "nbformat_minor": 4
}
