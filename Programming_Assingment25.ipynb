{
 "cells": [
  {
   "cell_type": "code",
   "execution_count": 42,
   "metadata": {},
   "outputs": [
    {
     "name": "stdout",
     "output_type": "stream",
     "text": [
      "[('B', 2), ('C', 3), ('D', 1)]\n"
     ]
    }
   ],
   "source": [
    "#Question2 Write a function that converts a dictionary into a list of \"keys-values tuples\".\n",
    "\n",
    "dict_to_list=({\n",
    "  \"D\": 1,\n",
    "  \"B\": 2,\n",
    "  \"C\": 3\n",
    "})\n",
    "\n",
    "l1 = list(dict_to_list.items())\n",
    "l1.sort()\n",
    "print(l1)"
   ]
  },
  {
   "cell_type": "code",
   "execution_count": 46,
   "metadata": {},
   "outputs": [
    {
     "name": "stdout",
     "output_type": "stream",
     "text": [
      "[('dislikes', 3), ('followers', 10), ('likes', 2)]\n"
     ]
    }
   ],
   "source": [
    "dict_to_list=({\n",
    "  \"likes\": 2,\n",
    "  \"dislikes\": 3,\n",
    "  \"followers\": 10\n",
    "})\n",
    "\n",
    "l2 = list(dict_to_list.items())\n",
    "l2.sort()\n",
    "print(l2)"
   ]
  },
  {
   "cell_type": "code",
   "execution_count": 54,
   "metadata": {},
   "outputs": [
    {
     "name": "stdout",
     "output_type": "stream",
     "text": [
      "{'a': 'A', 'b': 'B', 'c': 'C'}\n"
     ]
    }
   ],
   "source": [
    "#Question3:-Write a function that creates a dictionary with each (key, value) pair \n",
    "#being the (lower case, upper case) versions of a letter, respectively.\n",
    "# Solution 01\n",
    "mylist = ['a', 'b', 'c']\n",
    "thisDict={}\n",
    "for i in mylist:\n",
    "    thisDict.update({i:i.upper()})\n",
    "print(thisDict)"
   ]
  },
  {
   "cell_type": "code",
   "execution_count": 55,
   "metadata": {},
   "outputs": [
    {
     "data": {
      "text/plain": [
       "{'a': 'A', 'b': 'B', 'c': 'C'}"
      ]
     },
     "execution_count": 55,
     "metadata": {},
     "output_type": "execute_result"
    }
   ],
   "source": [
    "# Solution 02\n",
    "mylist = ['a', 'b', 'c']\n",
    "dict((i, i.upper()) for i in mylist)\n"
   ]
  },
  {
   "cell_type": "code",
   "execution_count": 66,
   "metadata": {},
   "outputs": [
    {
     "data": {
      "text/plain": [
       "'chooso cossorolo'"
      ]
     },
     "execution_count": 66,
     "metadata": {},
     "output_type": "execute_result"
    }
   ],
   "source": [
    "#Question4 Write a function, that replaces all vowels in a string with a specified vowel.\n",
    "\n",
    "def vow_replace(vow_replace1,chaToReplace):\n",
    "    vovels = ['a','e','i','o','u','A','E','I','O','U']\n",
    "\n",
    "    for i in vow_replace1:\n",
    "        if i in vovels:\n",
    "            vow_replace1 =vow_replace1.replace(i,chaToReplace)\n",
    "\n",
    "    return(vow_replace1)\n",
    "    \n",
    "#vow_replace(\"apples and bananas\", \"u\")\n",
    "\n",
    "vow_replace(\"cheese casserole\", \"o\")\n",
    "\n",
    "#vow_replace(\"stuffed jalapeno poppers\", \"e\")\n"
   ]
  },
  {
   "cell_type": "code",
   "execution_count": 107,
   "metadata": {},
   "outputs": [
    {
     "ename": "TypeError",
     "evalue": "string indices must be integers",
     "output_type": "error",
     "traceback": [
      "\u001b[1;31m---------------------------------------------------------------------------\u001b[0m",
      "\u001b[1;31mTypeError\u001b[0m                                 Traceback (most recent call last)",
      "\u001b[1;32m<ipython-input-107-099cf23da3d0>\u001b[0m in \u001b[0;36m<module>\u001b[1;34m\u001b[0m\n\u001b[0;32m      7\u001b[0m \u001b[1;33m\u001b[0m\u001b[0m\n\u001b[0;32m      8\u001b[0m \u001b[1;32mfor\u001b[0m \u001b[0mi\u001b[0m \u001b[1;32min\u001b[0m \u001b[0mss\u001b[0m\u001b[1;33m:\u001b[0m\u001b[1;33m\u001b[0m\u001b[1;33m\u001b[0m\u001b[0m\n\u001b[1;32m----> 9\u001b[1;33m     \u001b[1;32mif\u001b[0m \u001b[1;33m(\u001b[0m\u001b[0mord\u001b[0m\u001b[1;33m(\u001b[0m\u001b[0mss\u001b[0m\u001b[1;33m[\u001b[0m\u001b[0mi\u001b[0m\u001b[1;33m]\u001b[0m\u001b[1;33m)\u001b[0m\u001b[1;33m%\u001b[0m\u001b[1;36m2\u001b[0m\u001b[1;33m)\u001b[0m \u001b[1;33m==\u001b[0m \u001b[1;36m0\u001b[0m\u001b[1;33m:\u001b[0m\u001b[1;33m\u001b[0m\u001b[1;33m\u001b[0m\u001b[0m\n\u001b[0m\u001b[0;32m     10\u001b[0m         \u001b[0mprint\u001b[0m\u001b[1;33m(\u001b[0m\u001b[0mord\u001b[0m\u001b[1;33m(\u001b[0m\u001b[0mss\u001b[0m\u001b[1;33m[\u001b[0m\u001b[0mi\u001b[0m\u001b[1;33m]\u001b[0m\u001b[1;33m)\u001b[0m\u001b[1;33m)\u001b[0m\u001b[1;33m\u001b[0m\u001b[1;33m\u001b[0m\u001b[0m\n\u001b[0;32m     11\u001b[0m     \u001b[1;32melse\u001b[0m\u001b[1;33m:\u001b[0m\u001b[1;33m\u001b[0m\u001b[1;33m\u001b[0m\u001b[0m\n",
      "\u001b[1;31mTypeError\u001b[0m: string indices must be integers"
     ]
    }
   ],
   "source": [
    "#Question5:- Create a function that takes a string as input and capitalizes a letter if its ASCII code \n",
    "#is even and returns its lower case version if its ASCII code is odd.\n",
    "\n",
    "ss = \"to be or not to be\"\n",
    "#assCode = ord(ss)\n",
    "\n",
    "\n",
    "for i in ss:\n",
    "    if (ord(ss[i])%2) == 0:\n",
    "        print(ord(ss[i]))\n",
    "    else:\n",
    "        print(ord(ss[i]))\n",
    "        "
   ]
  },
  {
   "cell_type": "code",
   "execution_count": 103,
   "metadata": {},
   "outputs": [
    {
     "name": "stdout",
     "output_type": "stream",
     "text": [
      "111\n"
     ]
    }
   ],
   "source": [
    "ss = \"to be or not to be\"\n",
    "assCode = ord(ss[1])\n",
    "print(assCode)\n",
    "        print(ord(ss[i]).capitalize())\n"
   ]
  },
  {
   "cell_type": "code",
   "execution_count": 112,
   "metadata": {},
   "outputs": [
    {
     "data": {
      "text/plain": [
       "'to be or not to be'"
      ]
     },
     "execution_count": 112,
     "metadata": {},
     "output_type": "execute_result"
    }
   ],
   "source": [
    "def my_func(st):\n",
    "    for index in range(len(st)):\n",
    "        if index % 2 == 0:\n",
    "            st=st.upper()\n",
    "        else:\n",
    "            st=st.lower()\n",
    "    return st\n",
    "\n",
    "ss = \"to be or not to be\"\n",
    "my_func(ss)"
   ]
  },
  {
   "cell_type": "code",
   "execution_count": null,
   "metadata": {},
   "outputs": [],
   "source": [
    "def my_func(st):\n",
    "    i=0\n",
    "    while i < len(st):\n",
    "        if ord(st[i]) % 2 == 0:\n",
    "            st=st[i].upper()\n",
    "        else:\n",
    "            st=st[i].lower()\n",
    "        i+=i\n",
    "    return st\n",
    "\n",
    "ss = \"to be or not to be\"\n",
    "my_func(ss)"
   ]
  },
  {
   "cell_type": "code",
   "execution_count": 1,
   "metadata": {},
   "outputs": [
    {
     "data": {
      "text/plain": [
       "'To bE Or nOt tO Be'"
      ]
     },
     "execution_count": 1,
     "metadata": {},
     "output_type": "execute_result"
    }
   ],
   "source": [
    "def my_func(st):\n",
    "\n",
    "    res = []\n",
    "    #Iterate over the character\n",
    "    for index in range(len(st)):\n",
    "        if index % 2 == 0:\n",
    "            #Refer to each character via index and append modified character to list\n",
    "            res.append(st[index].upper())\n",
    "        else:\n",
    "            res.append(st[index].lower())\n",
    "\n",
    "    #Join the list into a string and return\n",
    "    return ''.join(res)\n",
    "\n",
    "ss = \"to be or not to be\"\n",
    "my_func(ss)"
   ]
  },
  {
   "cell_type": "code",
   "execution_count": 6,
   "metadata": {},
   "outputs": [
    {
     "name": "stdout",
     "output_type": "stream",
     "text": [
      "['t', 'o', ' ', 'b', 'e', ' ', 'o', 'r', ' ', 'n', 'o', 't', ' ', 't', 'o', ' ', 'b', 'e']\n"
     ]
    }
   ],
   "source": [
    "def my_func(st):\n",
    "\n",
    "    res = []\n",
    "    #Iterate over the character\n",
    "    for index in range(len(st)):\n",
    "        if index % 2 == 0:\n",
    "            #Refer to each character via index and append modified character to list\n",
    "            res.append(st[index])\n",
    "        else:\n",
    "            res.append(st[index])\n",
    "\n",
    "    #Join the list into a string and return\n",
    "    print(res) \n",
    "\n",
    "ss = \"to be or not to be\"\n",
    "my_func(ss)"
   ]
  },
  {
   "cell_type": "code",
   "execution_count": null,
   "metadata": {},
   "outputs": [],
   "source": []
  },
  {
   "cell_type": "code",
   "execution_count": null,
   "metadata": {},
   "outputs": [],
   "source": []
  },
  {
   "cell_type": "code",
   "execution_count": null,
   "metadata": {},
   "outputs": [],
   "source": []
  },
  {
   "cell_type": "code",
   "execution_count": null,
   "metadata": {},
   "outputs": [],
   "source": []
  },
  {
   "cell_type": "code",
   "execution_count": null,
   "metadata": {},
   "outputs": [],
   "source": []
  },
  {
   "cell_type": "code",
   "execution_count": null,
   "metadata": {},
   "outputs": [],
   "source": []
  },
  {
   "cell_type": "code",
   "execution_count": null,
   "metadata": {},
   "outputs": [],
   "source": []
  },
  {
   "cell_type": "code",
   "execution_count": null,
   "metadata": {},
   "outputs": [],
   "source": []
  },
  {
   "cell_type": "code",
   "execution_count": null,
   "metadata": {},
   "outputs": [],
   "source": []
  },
  {
   "cell_type": "code",
   "execution_count": null,
   "metadata": {},
   "outputs": [],
   "source": []
  },
  {
   "cell_type": "code",
   "execution_count": null,
   "metadata": {},
   "outputs": [],
   "source": []
  },
  {
   "cell_type": "code",
   "execution_count": null,
   "metadata": {},
   "outputs": [],
   "source": []
  },
  {
   "cell_type": "code",
   "execution_count": null,
   "metadata": {},
   "outputs": [],
   "source": []
  },
  {
   "cell_type": "code",
   "execution_count": null,
   "metadata": {},
   "outputs": [],
   "source": []
  },
  {
   "cell_type": "code",
   "execution_count": null,
   "metadata": {},
   "outputs": [],
   "source": []
  }
 ],
 "metadata": {
  "kernelspec": {
   "display_name": "Python 3",
   "language": "python",
   "name": "python3"
  },
  "language_info": {
   "codemirror_mode": {
    "name": "ipython",
    "version": 3
   },
   "file_extension": ".py",
   "mimetype": "text/x-python",
   "name": "python",
   "nbconvert_exporter": "python",
   "pygments_lexer": "ipython3",
   "version": "3.8.5"
  }
 },
 "nbformat": 4,
 "nbformat_minor": 4
}
