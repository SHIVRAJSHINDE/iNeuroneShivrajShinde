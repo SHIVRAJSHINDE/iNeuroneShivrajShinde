{
 "cells": [
  {
   "cell_type": "code",
   "execution_count": 1,
   "metadata": {},
   "outputs": [
    {
     "name": "stdout",
     "output_type": "stream",
     "text": [
      "[17, 15, 4]\n",
      "[10, 12, 9]\n",
      "[11, 13, 18]\n"
     ]
    }
   ],
   "source": []
  },
  {
   "cell_type": "code",
   "execution_count": 5,
   "metadata": {},
   "outputs": [
    {
     "name": "stdout",
     "output_type": "stream",
     "text": [
      "[17, 15, 4]\n",
      "[10, 12, 9]\n",
      "[11, 13, 18]\n"
     ]
    }
   ],
   "source": [
    "#1. Program to add two matrices using nested loop\n",
    "\n",
    "x = [[12,7,3],\n",
    "    [4 ,5,6],\n",
    "    [7 ,8,9]]\n",
    "\n",
    "y = [[5,8,1],\n",
    "    [6,7,3],\n",
    "    [4,5,9]]\n",
    "\n",
    "result = [[0,0,0],\n",
    "         [0,0,0],\n",
    "         [0,0,0]]\n",
    "\n",
    "for i in range(len(x)):\n",
    "    for j in range(len(x)):\n",
    "        result[i][j] = x[i][j]+y[i][j]\n",
    "        \n",
    "        \n",
    "for r in result:\n",
    "    print(r)\n"
   ]
  },
  {
   "cell_type": "code",
   "execution_count": 6,
   "metadata": {},
   "outputs": [
    {
     "name": "stdout",
     "output_type": "stream",
     "text": [
      "[60, 56, 3]\n",
      "[24, 35, 18]\n",
      "[28, 40, 81]\n"
     ]
    }
   ],
   "source": [
    "#2. 2.Write a Python Program to Multiply Two Matrices?\n",
    "\n",
    "x = [[12,7,3],\n",
    "    [4 ,5,6],\n",
    "    [7 ,8,9]]\n",
    "\n",
    "y = [[5,8,1],\n",
    "    [6,7,3],\n",
    "    [4,5,9]]\n",
    "\n",
    "result = [[0,0,0],\n",
    "         [0,0,0],\n",
    "         [0,0,0]]\n",
    "\n",
    "for i in range(len(x)):\n",
    "    for j in range(len(x)):\n",
    "        result[i][j] = x[i][j]*y[i][j]\n",
    "        \n",
    "        \n",
    "for r in result:\n",
    "    print(r)\n"
   ]
  },
  {
   "cell_type": "code",
   "execution_count": 26,
   "metadata": {},
   "outputs": [
    {
     "name": "stdout",
     "output_type": "stream",
     "text": [
      "[12, 4, 7]\n",
      "[7, 5, 8]\n",
      "[3, 6, 9]\n"
     ]
    }
   ],
   "source": [
    "#3. 3.Write a Python Program to Transpose a Matrix?\n",
    "x = [[12,7,3],\n",
    "    [4 ,5,6],\n",
    "    [7 ,8,9]]\n",
    "\n",
    "result = [['a','b','c'],\n",
    "         ['a','b','c'],\n",
    "         ['a','b','c']]\n",
    "\n",
    "\n",
    "result1 = [[0,0,0],\n",
    "           [0,0,0],\n",
    "           [0,0,0]]\n",
    "\n",
    "\n",
    "\n",
    "for i in range(len(x)):\n",
    "    for j in range(len(x)):\n",
    "        result[i][j] = x[j][i]\n",
    "        \n",
    "\n",
    "for r in result:\n",
    "    print(r)\n"
   ]
  },
  {
   "cell_type": "code",
   "execution_count": 27,
   "metadata": {},
   "outputs": [
    {
     "name": "stdout",
     "output_type": "stream",
     "text": [
      "The sorted words are:\n",
      "an\n",
      "cased\n",
      "example\n",
      "hello\n",
      "is\n",
      "letters\n",
      "this\n",
      "with\n"
     ]
    }
   ],
   "source": [
    "# Program to sort alphabetically the words form a string provided by the user\n",
    "\n",
    "my_str = \"Hello this Is an Example With cased letters\"\n",
    "\n",
    "# To take input from the user\n",
    "#my_str = input(\"Enter a string: \")\n",
    "\n",
    "# breakdown the string into a list of words\n",
    "words = [word.lower() for word in my_str.split()]\n",
    "\n",
    "# sort the list\n",
    "words.sort()\n",
    "\n",
    "# display the sorted words\n",
    "\n",
    "print(\"The sorted words are:\")\n",
    "for word in words:\n",
    "   print(word)"
   ]
  },
  {
   "cell_type": "code",
   "execution_count": 35,
   "metadata": {},
   "outputs": [
    {
     "name": "stdout",
     "output_type": "stream",
     "text": [
      "an\n",
      "cased\n",
      "example\n",
      "hello\n",
      "is\n",
      "letters\n",
      "this\n",
      "with\n",
      "['an', 'cased', 'example', 'hello', 'is', 'letters', 'this', 'with']\n"
     ]
    }
   ],
   "source": [
    "my_str = \"Hello this Is an Example With cased letters\"\n",
    "\n",
    "my_str = my_str.lower()\n",
    "\n",
    "my_str = my_str.split()\n",
    "\n",
    "my_str.sort()\n",
    "\n",
    "for i in my_str:\n",
    "    print(i)\n",
    "\n",
    "print(my_str)"
   ]
  },
  {
   "cell_type": "code",
   "execution_count": 42,
   "metadata": {},
   "outputs": [
    {
     "name": "stdout",
     "output_type": "stream",
     "text": [
      "Hello he said and went\n"
     ]
    }
   ],
   "source": [
    "#5. 5.Write a Python Program to Remove Punctuation From a String?\n",
    "\n",
    "\n",
    "punctuations = '''!()-[]{};:'\"\\,<>./?@#$%^&*_~'''\n",
    "\n",
    "my_str = \"Hello!!!, he said ---and went.\"\n",
    "noP = \"\"\n",
    "\n",
    "for char in my_str:\n",
    "    if char not in punctuations:\n",
    "        noP = noP + char\n",
    "\n",
    "print(noP)\n"
   ]
  },
  {
   "cell_type": "code",
   "execution_count": null,
   "metadata": {},
   "outputs": [],
   "source": []
  },
  {
   "cell_type": "code",
   "execution_count": null,
   "metadata": {},
   "outputs": [],
   "source": []
  },
  {
   "cell_type": "code",
   "execution_count": null,
   "metadata": {},
   "outputs": [],
   "source": []
  },
  {
   "cell_type": "code",
   "execution_count": null,
   "metadata": {},
   "outputs": [],
   "source": []
  },
  {
   "cell_type": "code",
   "execution_count": null,
   "metadata": {},
   "outputs": [],
   "source": []
  },
  {
   "cell_type": "code",
   "execution_count": null,
   "metadata": {},
   "outputs": [],
   "source": []
  },
  {
   "cell_type": "code",
   "execution_count": null,
   "metadata": {},
   "outputs": [],
   "source": []
  },
  {
   "cell_type": "code",
   "execution_count": null,
   "metadata": {},
   "outputs": [],
   "source": []
  }
 ],
 "metadata": {
  "kernelspec": {
   "display_name": "Python 3",
   "language": "python",
   "name": "python3"
  },
  "language_info": {
   "codemirror_mode": {
    "name": "ipython",
    "version": 3
   },
   "file_extension": ".py",
   "mimetype": "text/x-python",
   "name": "python",
   "nbconvert_exporter": "python",
   "pygments_lexer": "ipython3",
   "version": "3.8.5"
  }
 },
 "nbformat": 4,
 "nbformat_minor": 4
}
