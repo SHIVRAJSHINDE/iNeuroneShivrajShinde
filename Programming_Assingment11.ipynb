{
 "cells": [
  {
   "cell_type": "code",
   "execution_count": null,
   "metadata": {},
   "outputs": [],
   "source": [
    "#1.Write a Python program to find words which are greater than given length k?\n",
    "\n",
    "\n"
   ]
  },
  {
   "cell_type": "code",
   "execution_count": 5,
   "metadata": {},
   "outputs": [
    {
     "name": "stdout",
     "output_type": "stream",
     "text": [
      "geeksORgeeks\n"
     ]
    }
   ],
   "source": []
  },
  {
   "cell_type": "code",
   "execution_count": 36,
   "metadata": {},
   "outputs": [
    {
     "data": {
      "text/plain": [
       "'imlementationOfAbove'"
      ]
     },
     "execution_count": 36,
     "metadata": {},
     "output_type": "execute_result"
    }
   ],
   "source": [
    "#2.Write a Python program for removing i-th character from a string?\n",
    "#Method 01\n",
    "\n",
    "string = \"implementationOfAbove\"\n",
    "q= 2\n",
    "\n",
    "def replaceIthValue1(string,q):\n",
    "\n",
    "    firstSplit = string[:q] \n",
    "    secondSplit =  string[q+1:]\n",
    "    full = firstSplit+ secondSplit\n",
    "    return full\n",
    "    \n",
    "replaceIthValue(string,q)"
   ]
  },
  {
   "cell_type": "code",
   "execution_count": 38,
   "metadata": {},
   "outputs": [
    {
     "data": {
      "text/plain": [
       "'imlementationOfAbove'"
      ]
     },
     "execution_count": 38,
     "metadata": {},
     "output_type": "execute_result"
    }
   ],
   "source": [
    "#2.Write a Python program for removing i-th character from a string?\n",
    "#Method 02\n",
    "\n",
    "def replaceIthValue2(string,q):\n",
    "    string = string.replace(string[q],\"\")\n",
    "    return string\n",
    "\n",
    "\n",
    "string = \"implementationOfAbove\"\n",
    "q=2\n",
    "\n",
    "replaceIthValue(string,q)\n"
   ]
  },
  {
   "cell_type": "code",
   "execution_count": 48,
   "metadata": {},
   "outputs": [
    {
     "name": "stdout",
     "output_type": "stream",
     "text": [
      "['Below', 'is', 'the', 'implementation', 'of', 'above', 'approach']\n",
      "['Belowis', 'theimplementation', 'of', 'aboveapproach']\n",
      "['Below', 'is', 'the', 'implementation', 'of', 'above', 'approach']\n"
     ]
    }
   ],
   "source": [
    "#3.Write a Python program to split and join a string?\n",
    "\n",
    "string1=\"Below is the implementation of above approach\"\n",
    "string2=\"Belowis,theimplementation,of,aboveapproach\"\n",
    "\n",
    "print(string1.split())\n",
    "print(string2.split(\",\"))\n",
    "print(string1.split(\" \"))"
   ]
  },
  {
   "cell_type": "code",
   "execution_count": null,
   "metadata": {},
   "outputs": [],
   "source": [
    "string1=\"Below is the implementation of above approach\"\n",
    "string2=\"Belowis,theimplementation,of,aboveapproach\"\n",
    "\n",
    "print(string1.split())\n",
    "print(string2.split(\",\"))\n",
    "print(string1.split(\" \"))"
   ]
  },
  {
   "cell_type": "code",
   "execution_count": null,
   "metadata": {},
   "outputs": [],
   "source": [
    "#4.Write a Python to check if a given string is binary string or not?\n",
    "\n",
    "stringA = '0110101010111'\n",
    "b = {'0','1'}\n",
    "t = set(stringA)\n",
    "\n",
    "if b == t or t == {'0'} or t == {'1'}:\n",
    "print(\"StringA is a binary string.\")\n",
    "else:\n",
    "print(\"StringA is not a binary string.\")\n",
    "\n",
    "stringB = '0120101010111'\n",
    "u = set(stringB)\n",
    "\n",
    "if b == u or u == {'0'} or u == {'1'}:\n",
    "print(\"StringB is a binary string.\")\n",
    "else:\n",
    "print(\"StringB is not a binary string.\")\n"
   ]
  },
  {
   "cell_type": "code",
   "execution_count": 54,
   "metadata": {},
   "outputs": [
    {
     "ename": "IndexError",
     "evalue": "list index out of range",
     "output_type": "error",
     "traceback": [
      "\u001b[1;31m---------------------------------------------------------------------------\u001b[0m",
      "\u001b[1;31mIndexError\u001b[0m                                Traceback (most recent call last)",
      "\u001b[1;32m<ipython-input-54-faf93e414d01>\u001b[0m in \u001b[0;36m<module>\u001b[1;34m\u001b[0m\n\u001b[0;32m      9\u001b[0m \u001b[1;32mfor\u001b[0m \u001b[0mj\u001b[0m \u001b[1;32min\u001b[0m \u001b[0mrange\u001b[0m\u001b[1;33m(\u001b[0m\u001b[0mlen\u001b[0m\u001b[1;33m(\u001b[0m\u001b[0ma\u001b[0m\u001b[1;33m)\u001b[0m\u001b[1;33m)\u001b[0m\u001b[1;33m:\u001b[0m\u001b[1;33m\u001b[0m\u001b[1;33m\u001b[0m\u001b[0m\n\u001b[0;32m     10\u001b[0m     \u001b[1;32mfor\u001b[0m \u001b[0mi\u001b[0m \u001b[1;32min\u001b[0m \u001b[0mrange\u001b[0m\u001b[1;33m(\u001b[0m\u001b[0mlen\u001b[0m\u001b[1;33m(\u001b[0m\u001b[0mb\u001b[0m\u001b[1;33m)\u001b[0m\u001b[1;33m)\u001b[0m\u001b[1;33m:\u001b[0m\u001b[1;33m\u001b[0m\u001b[1;33m\u001b[0m\u001b[0m\n\u001b[1;32m---> 11\u001b[1;33m         \u001b[0mb\u001b[0m\u001b[1;33m[\u001b[0m\u001b[0mj\u001b[0m\u001b[1;33m]\u001b[0m \u001b[1;33m!=\u001b[0m\u001b[0ma\u001b[0m\u001b[1;33m[\u001b[0m\u001b[0mi\u001b[0m\u001b[1;33m]\u001b[0m\u001b[1;33m\u001b[0m\u001b[1;33m\u001b[0m\u001b[0m\n\u001b[0m\u001b[0;32m     12\u001b[0m     \u001b[0mprint\u001b[0m\u001b[1;33m(\u001b[0m\u001b[0ma\u001b[0m\u001b[1;33m)\u001b[0m\u001b[1;33m\u001b[0m\u001b[1;33m\u001b[0m\u001b[0m\n",
      "\u001b[1;31mIndexError\u001b[0m: list index out of range"
     ]
    }
   ],
   "source": [
    "#5.Write a Python program to find uncommon words from two Strings?\n",
    "\n",
    "A = \"Geeks for Geeks\"\n",
    "B = \"Learning from Geeks for Geeks\"\n",
    "\n",
    "a = A.split()\n",
    "b = B.split()\n",
    "\n",
    "for j in range(len(a)):\n",
    "    for i in range(len(b)):\n",
    "        b[j] !=a[i]\n",
    "    print(a)"
   ]
  },
  {
   "cell_type": "code",
   "execution_count": 69,
   "metadata": {},
   "outputs": [
    {
     "name": "stdout",
     "output_type": "stream",
     "text": [
      "['Learning', 'from']\n"
     ]
    }
   ],
   "source": [
    "# 5.Write a Python program to find uncommon words from two Strings?\n",
    "\n",
    "\n",
    "A = \"Learning from Geeks for Geeks\"\n",
    "B = \"Geeks for Geeks\"\n",
    "\n",
    "a = A.split()\n",
    "b = B.split()\n",
    "\n",
    "uncommonWord = []\n",
    "\n",
    "if len(a) > len(b):\n",
    "    firstLoop = len(a)\n",
    "    secondLoop = len(b)\n",
    "\n",
    "elif len(a) < len(b):\n",
    "    firstLoop = len(b)\n",
    "    secondLoop = len(a)\n",
    "\n",
    "for j in range(0, firstLoop):\n",
    "    for i in range(0, secondLoop):\n",
    "        aValue = a[j]\n",
    "        bValue = b[i]\n",
    "\n",
    "        if aValue == bValue:\n",
    "            y = \"yes\"\n",
    "            break\n",
    "        elif aValue != bValue:\n",
    "            y = \"no\"\n",
    "    if y == \"no\":\n",
    "        uncommonWord.append(a[j])\n",
    "\n",
    "print(uncommonWord)"
   ]
  },
  {
   "cell_type": "code",
   "execution_count": null,
   "metadata": {},
   "outputs": [],
   "source": []
  },
  {
   "cell_type": "code",
   "execution_count": 83,
   "metadata": {},
   "outputs": [
    {
     "name": "stdout",
     "output_type": "stream",
     "text": [
      "['Learning', 'from']\n"
     ]
    }
   ],
   "source": [
    "A = \"Learning from Geeks for Geeks\"\n",
    "B = \"Geeks for Geeks\"\n",
    "\n",
    "a = A.split()\n",
    "b = B.split()\n",
    "i=2\n",
    "notcommonWords=[]\n",
    "\n",
    "for i in range(len(a)):\n",
    "    if a[i] in b:\n",
    "        pass\n",
    "    else:\n",
    "        notcommonWords.append(a[i])\n",
    "\n",
    "print(notcommonWords)\n"
   ]
  },
  {
   "cell_type": "code",
   "execution_count": 90,
   "metadata": {},
   "outputs": [
    {
     "name": "stdout",
     "output_type": "stream",
     "text": [
      "g\n",
      "e\n",
      "k\n",
      "s\n"
     ]
    }
   ],
   "source": [
    "from collections import Counter\n",
    "input = 'geeksforgeeks'\n",
    "WC = Counter(input)\n",
    "for letter, count in WC.items():\n",
    "    if (count > 1):\n",
    "        print(letter)"
   ]
  },
  {
   "cell_type": "code",
   "execution_count": 91,
   "metadata": {},
   "outputs": [
    {
     "name": "stdout",
     "output_type": "stream",
     "text": [
      "t o i \n"
     ]
    }
   ],
   "source": [
    "## initializing string\n",
    "string = \"tutorialspoint\"\n",
    "## initializing a dictionary\n",
    "duplicates = {}\n",
    "for char in string:\n",
    "   ## checking whether the char is already present in dictionary or not\n",
    "   if char in duplicates:\n",
    "      ## increasing count if present\n",
    "      duplicates[char] += 1\n",
    "   else:\n",
    "      ## initializing count to 1 if not present\n",
    "      duplicates[char] = 1\n",
    "for key, value in duplicates.items():\n",
    "   if value > 1:\n",
    "      print(key, end = \" \")\n",
    "print()"
   ]
  },
  {
   "cell_type": "code",
   "execution_count": null,
   "metadata": {},
   "outputs": [],
   "source": [
    "#7.Write a Python Program to check if a string contains any special character?\n",
    "# Python program to check special character\n",
    "# import required package\n",
    "import re\n",
    "\n",
    "# take inputs\n",
    "string = input('Enter any string: ')\n",
    " \n",
    "# special characters\n",
    "special_char = re.compile('[@_!#$%^&*()<>?/\\|}{~:]')\n",
    "\n",
    "# check string contains special characters or not\n",
    "if(special_char.search(string) == None):\n",
    "    print('String does not contain any special characters.')\n",
    "else:\n",
    "    print('The string contains special characters.')"
   ]
  },
  {
   "cell_type": "code",
   "execution_count": null,
   "metadata": {},
   "outputs": [],
   "source": []
  },
  {
   "cell_type": "code",
   "execution_count": null,
   "metadata": {},
   "outputs": [],
   "source": []
  },
  {
   "cell_type": "code",
   "execution_count": null,
   "metadata": {},
   "outputs": [],
   "source": []
  },
  {
   "cell_type": "code",
   "execution_count": null,
   "metadata": {},
   "outputs": [],
   "source": []
  }
 ],
 "metadata": {
  "kernelspec": {
   "display_name": "Python 3",
   "language": "python",
   "name": "python3"
  },
  "language_info": {
   "codemirror_mode": {
    "name": "ipython",
    "version": 3
   },
   "file_extension": ".py",
   "mimetype": "text/x-python",
   "name": "python",
   "nbconvert_exporter": "python",
   "pygments_lexer": "ipython3",
   "version": "3.8.5"
  }
 },
 "nbformat": 4,
 "nbformat_minor": 4
}
