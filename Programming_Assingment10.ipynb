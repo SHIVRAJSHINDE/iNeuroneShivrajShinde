{
 "cells": [
  {
   "cell_type": "code",
   "execution_count": 27,
   "metadata": {},
   "outputs": [
    {
     "data": {
      "text/plain": [
       "51"
      ]
     },
     "execution_count": 27,
     "metadata": {},
     "output_type": "execute_result"
    }
   ],
   "source": [
    "#1.Write a Python program to find sum of elements in list?\n",
    "\n",
    "def sumofList(list1):\n",
    "    total=0\n",
    "    for i in range(0,len(list1)):\n",
    "        total=total+list1[i]\n",
    "    return total\n",
    "\n",
    "a = [1,2,3,4,5,6,7,8,9,4,2]\n",
    "\n",
    "sumofList(a)"
   ]
  },
  {
   "cell_type": "code",
   "execution_count": 29,
   "metadata": {},
   "outputs": [
    {
     "data": {
      "text/plain": [
       "2903040"
      ]
     },
     "execution_count": 29,
     "metadata": {},
     "output_type": "execute_result"
    }
   ],
   "source": [
    "#2.Write a Python program to  Multiply all numbers in the list?\n",
    "\n",
    "def sumofList(list1):\n",
    "    total=1\n",
    "    for i in range(0,len(list1)):\n",
    "        total=total*list1[i]\n",
    "    return total\n",
    "\n",
    "a = [1,2,3,4,5,6,7,8,9,4,2]\n",
    "\n",
    "sumofList(a)"
   ]
  },
  {
   "cell_type": "code",
   "execution_count": 40,
   "metadata": {},
   "outputs": [
    {
     "name": "stdout",
     "output_type": "stream",
     "text": [
      "Smallest Value is: 4\n",
      "Smallest Value is: [4]\n",
      "Smallest Value is: [4]\n",
      "Smallest Value is: 4\n"
     ]
    }
   ],
   "source": [
    "#3.Write a Python program to find smallest number in a list?\n",
    "#Method-1\n",
    "# list of numbers\n",
    "list1 = [10, 20, 4, 45, 99]\n",
    " \n",
    "list1.sort()\n",
    "\n",
    "print(\"Smallest Value is:\",list1[0])\n",
    "print(\"Smallest Value is:\",list1[:1])\n",
    "print(\"Smallest Value is:\",list1[:-4])\n",
    "print(\"Smallest Value is:\",list1[-5])"
   ]
  },
  {
   "cell_type": "code",
   "execution_count": 42,
   "metadata": {},
   "outputs": [
    {
     "name": "stdout",
     "output_type": "stream",
     "text": [
      "Smallest Value is: 4\n"
     ]
    }
   ],
   "source": [
    "#3.Write a Python program to find smallest number in a list?\n",
    "#Method-2\n",
    "# list of numbers\n",
    "list1 = [10, 20, 4, 45, 99]\n",
    "\n",
    "print(\"Smallest Value is:\",min(list1))\n"
   ]
  },
  {
   "cell_type": "code",
   "execution_count": 51,
   "metadata": {},
   "outputs": [
    {
     "name": "stdout",
     "output_type": "stream",
     "text": [
      "0\n"
     ]
    }
   ],
   "source": [
    "#3.Write a Python program to find smallest number in a list?\n",
    "#Method-3 Using Loop\n",
    "# list of numbers\n",
    "list1 = [10, 20, 4,0, 45, 99,1]\n",
    "\n",
    "min1= list1[0] \n",
    "\n",
    "for i in range(len(list1)):\n",
    "    if min1 < list1[i]:\n",
    "        min1 = min1\n",
    "    elif list1[i] < min1:\n",
    "        min1 = list1[i]\n",
    "\n",
    "print(min1)\n"
   ]
  },
  {
   "cell_type": "code",
   "execution_count": 53,
   "metadata": {},
   "outputs": [
    {
     "name": "stdout",
     "output_type": "stream",
     "text": [
      "Smallest Value is: 99\n"
     ]
    }
   ],
   "source": [
    "#4.Write a Python program to find largest number in a list?\n",
    "list1 = [10, 20, 4, 45, 99]\n",
    " \n",
    "list1.sort()\n",
    "\n",
    "print(\"Largest Value is:\",list1[-1])"
   ]
  },
  {
   "cell_type": "code",
   "execution_count": 56,
   "metadata": {},
   "outputs": [
    {
     "name": "stdout",
     "output_type": "stream",
     "text": [
      "Largest Value is: 99\n"
     ]
    }
   ],
   "source": [
    "#4.Write a Python program to find largest number in a list?\n",
    "#Using Max Function\n",
    "\n",
    "list1 = [10, 20, 4, 45, 99]\n",
    "list1.sort()\n",
    "\n",
    "print(\"Largest Value is:\",max(list1))"
   ]
  },
  {
   "cell_type": "code",
   "execution_count": 55,
   "metadata": {},
   "outputs": [
    {
     "name": "stdout",
     "output_type": "stream",
     "text": [
      "99\n"
     ]
    }
   ],
   "source": [
    "#4.Write a Python program to find largest number in a list?\n",
    "#Method-3 Using Loop\n",
    "# list of numbers\n",
    "list1 = [10, 20, 4,0, 45, 99,1]\n",
    "\n",
    "max1= list1[0] \n",
    "\n",
    "for i in range(len(list1)):\n",
    "    if max1 > list1[i]:\n",
    "        max1 = max1\n",
    "    elif list1[i] > max1:\n",
    "        max1 = list1[i]\n",
    "\n",
    "print(max1)\n"
   ]
  },
  {
   "cell_type": "code",
   "execution_count": 59,
   "metadata": {},
   "outputs": [
    {
     "name": "stdout",
     "output_type": "stream",
     "text": [
      "Largest Element is: 45\n"
     ]
    }
   ],
   "source": [
    "#5.Write a Python program to find second largest number in a list?\n",
    "\n",
    "list1 = [10, 20, 4,0, 45, 99,1]\n",
    "\n",
    "list1.sort()\n",
    "\n",
    "print(\"Largest Element is:\", list1[-2])\n"
   ]
  },
  {
   "cell_type": "code",
   "execution_count": 63,
   "metadata": {},
   "outputs": [
    {
     "name": "stdout",
     "output_type": "stream",
     "text": [
      "[85, 41, 10, 7]\n"
     ]
    }
   ],
   "source": [
    "def Nmaxelements(list1, N):\n",
    "    final_list = []\n",
    "  \n",
    "    for i in range(0, N): \n",
    "        max1 = 0\n",
    "        for j in range(len(list1)):     \n",
    "            if list1[j] > max1:\n",
    "                max1 = list1[j];\n",
    "                  \n",
    "        list1.remove(max1);\n",
    "        final_list.append(max1)\n",
    "          \n",
    "    print(final_list)\n",
    "  \n",
    "#Driver code\n",
    "list1 = [2, 6, 41, 85, 0, 3, 7, 6, 10]\n",
    "N = 4\n",
    "  \n",
    "# Calling the function\n",
    "Nmaxelements(list1, N)"
   ]
  },
  {
   "cell_type": "code",
   "execution_count": 87,
   "metadata": {},
   "outputs": [
    {
     "name": "stdout",
     "output_type": "stream",
     "text": [
      "[2, 6, 0, 6, 10]\n"
     ]
    }
   ],
   "source": [
    "#7.Write a Python program to print even numbers in a list?\n",
    "\n",
    "list1 = [2, 6, 41, 85, 0, 3, 7, 6, 10]\n",
    "list2=[]\n",
    "\n",
    "for i in range(len(list1)):\n",
    "    if list1[i]%2==0:\n",
    "        list2.append(list1[i])\n",
    "print(list2)\n"
   ]
  },
  {
   "cell_type": "code",
   "execution_count": 88,
   "metadata": {},
   "outputs": [
    {
     "name": "stdout",
     "output_type": "stream",
     "text": [
      "[41, 85, 3, 7]\n"
     ]
    }
   ],
   "source": [
    "#8.Write a Python program to print odd numbers in a List?\n",
    "\n",
    "list1 = [2, 6, 41, 85, 0, 3, 7, 6, 10]\n",
    "list2=[]\n",
    "\n",
    "for i in range(len(list1)):\n",
    "    if list1[i]%2!=0:\n",
    "        list2.append(list1[i])\n",
    "print(list2)\n"
   ]
  },
  {
   "cell_type": "code",
   "execution_count": 93,
   "metadata": {},
   "outputs": [
    {
     "name": "stdout",
     "output_type": "stream",
     "text": [
      "[5, 6, 3, 9]\n"
     ]
    }
   ],
   "source": [
    "#9.Write a Python program to Remove empty List from List?\n",
    "input_list = [5, 6, [], 3, [], [], 9]\n",
    "newList=[]\n",
    "for ele in input_list:\n",
    "    if ele != []:\n",
    "       newList.append(ele) \n",
    "\n",
    "print(newList)"
   ]
  },
  {
   "cell_type": "code",
   "execution_count": 95,
   "metadata": {},
   "outputs": [
    {
     "data": {
      "text/plain": [
       "[5, 6, 3, 9]"
      ]
     },
     "execution_count": 95,
     "metadata": {},
     "output_type": "execute_result"
    }
   ],
   "source": [
    "#10.Write a Python program to Cloning or Copying a list?\n",
    "#Method 1\n",
    "list1 = [5, 6, 3, 9]\n",
    "\n",
    "list2 = list1[:]\n",
    "list2"
   ]
  },
  {
   "cell_type": "code",
   "execution_count": 100,
   "metadata": {},
   "outputs": [
    {
     "data": {
      "text/plain": [
       "[5, 6, 3, 9]"
      ]
     },
     "execution_count": 100,
     "metadata": {},
     "output_type": "execute_result"
    }
   ],
   "source": [
    "#10.Write a Python program to Cloning or Copying a list?\n",
    "#Method 2\n",
    "list1 = [5, 6, 3, 9]\n",
    "list3=[]\n",
    "list3.extend(list1)\n",
    "list3"
   ]
  },
  {
   "cell_type": "code",
   "execution_count": 104,
   "metadata": {},
   "outputs": [
    {
     "data": {
      "text/plain": [
       "[5, 6, 3, 9]"
      ]
     },
     "execution_count": 104,
     "metadata": {},
     "output_type": "execute_result"
    }
   ],
   "source": [
    "#10.Write a Python program to Cloning or Copying a list?\n",
    "#Method 3\n",
    "list1 = [5, 6, 3, 9]\n",
    "list4=[]\n",
    "list4 = list(list1)\n",
    "list4"
   ]
  },
  {
   "cell_type": "code",
   "execution_count": 106,
   "metadata": {},
   "outputs": [
    {
     "name": "stdout",
     "output_type": "stream",
     "text": [
      "[5, 6, 3, 9]\n"
     ]
    }
   ],
   "source": [
    "#10.Write a Python program to Cloning or Copying a list?\n",
    "#Method 4\n",
    "list1 = [5, 6, 3, 9]\n",
    "list5=[]\n",
    "list5=list1.copy()\n",
    "print(list5)"
   ]
  },
  {
   "cell_type": "code",
   "execution_count": 115,
   "metadata": {},
   "outputs": [
    {
     "name": "stdout",
     "output_type": "stream",
     "text": [
      "7 has occurred 2 times\n"
     ]
    }
   ],
   "source": [
    "#11.Write a Python program to Count occurrences of an element in a list?\n",
    "list1 = [5,6,3,9,5,6,3,9,7,7,5,6,3,9,5]\n",
    "x=7\n",
    "\n",
    "def countValue(x,list1):\n",
    "    count=0\n",
    "    for i in list1:\n",
    "        if i==x:\n",
    "            count = count + 1\n",
    "\n",
    "    return count\n",
    "\n",
    "\n",
    "\n",
    "\n",
    "print('{} has occurred {} times'.format(x, countValue(x,list1)))\n"
   ]
  },
  {
   "cell_type": "code",
   "execution_count": 114,
   "metadata": {},
   "outputs": [
    {
     "name": "stdout",
     "output_type": "stream",
     "text": [
      "8 has occurred 5 times\n"
     ]
    }
   ],
   "source": []
  },
  {
   "cell_type": "code",
   "execution_count": null,
   "metadata": {},
   "outputs": [],
   "source": []
  },
  {
   "cell_type": "code",
   "execution_count": null,
   "metadata": {},
   "outputs": [],
   "source": []
  },
  {
   "cell_type": "code",
   "execution_count": null,
   "metadata": {},
   "outputs": [],
   "source": []
  },
  {
   "cell_type": "code",
   "execution_count": null,
   "metadata": {},
   "outputs": [],
   "source": []
  }
 ],
 "metadata": {
  "kernelspec": {
   "display_name": "Python 3",
   "language": "python",
   "name": "python3"
  },
  "language_info": {
   "codemirror_mode": {
    "name": "ipython",
    "version": 3
   },
   "file_extension": ".py",
   "mimetype": "text/x-python",
   "name": "python",
   "nbconvert_exporter": "python",
   "pygments_lexer": "ipython3",
   "version": "3.8.5"
  }
 },
 "nbformat": 4,
 "nbformat_minor": 4
}
